{
 "cells": [
  {
   "cell_type": "markdown",
   "id": "01723425",
   "metadata": {},
   "source": [
    "# nba-rating"
   ]
  },
  {
   "cell_type": "code",
   "execution_count": 1,
   "id": "c3930519",
   "metadata": {},
   "outputs": [],
   "source": [
    "import pandas as pd\n",
    "import numpy as np\n",
    "import requests\n",
    "import bs4\n",
    "import time\n",
    "import random"
   ]
  },
  {
   "cell_type": "code",
   "execution_count": 2,
   "id": "38f2ae1c",
   "metadata": {},
   "outputs": [],
   "source": [
    "def allowed_by_robots_txt(url):\n",
    "    \"\"\"\n",
    "    Returns a boolean value representing if a url is allowed \n",
    "    to be scraped, according to the site's robots.txt\n",
    "    ---\n",
    "    url: string representing url to scrape\n",
    "    \"\"\"\n",
    "    # Get robots.txt\n",
    "    url_split = url.split(\"/\")\n",
    "    robots_txt_url = url_split[0] + '//' + url_split[2] + '/robots.txt'\n",
    "\n",
    "    response = requests.get(robots_txt_url)\n",
    "    response.raise_for_status()\n",
    "\n",
    "    lines = response.text.split('\\n')\n",
    "\n",
    "    user_agent_reached = False\n",
    "\n",
    "    for line in lines:\n",
    "        if line.strip() == 'User-agent: *':\n",
    "            user_agent_reached = True\n",
    "            \n",
    "        if line.lower().startswith('disallow') and user_agent_reached:\n",
    "            # Check if the URL is disallowed\n",
    "            disallowed_path = line.split(':', 1)[1].strip()\n",
    "            if disallowed_path == '/':\n",
    "                break\n",
    "            if disallowed_path in url:\n",
    "                return False\n",
    "\n",
    "    # If no specific rule is found, the URL is allowed\n",
    "    return True"
   ]
  },
  {
   "cell_type": "code",
   "execution_count": 3,
   "id": "a5811254",
   "metadata": {},
   "outputs": [],
   "source": [
    "def get_data(url):\n",
    "    # Make request to site\n",
    "    response = requests.get(url)\n",
    "    \n",
    "    # Check to see if response was successful\n",
    "    if response.status_code == 200:\n",
    "        html_content = response.text\n",
    "    else:\n",
    "        raise Exception(f\"Error: Unable to fetch content. Status code: {response.status_code}.\")\n",
    "        \n",
    "    # create soup object and get only 'tr' tags\n",
    "    soup = bs4.BeautifulSoup(html_content, features='lxml')\n",
    "    soup = (soup\n",
    "            .find('body', class_='bbr')\n",
    "            .find('div', {'id':'wrap'})\n",
    "            .find('div', {'id':'content'})\n",
    "            .find('div', {'id':'all_schedule'})\n",
    "            .find('div', {'id':'div_schedule'})\n",
    "            .find('tbody')\n",
    "            .find_all('tr'))\n",
    "\n",
    "    date, start, visitor, visitor_pts, home, home_pts, box_score, ot, attend, arena, notes = [], [], [], [], [], [], [], [], [], [], []\n",
    "    for game in soup:\n",
    "        date.append(game.find_all('th')[0].text)\n",
    "        start.append(game.find_all('td')[0].text)\n",
    "        visitor.append(game.find_all('td')[1].text)\n",
    "        visitor_pts.append(game.find_all('td')[2].text)\n",
    "        home.append(game.find_all('td')[3].text)\n",
    "        home_pts.append(game.find_all('td')[4].text)\n",
    "        box_score.append('https://www.basketball-reference.com/' + game.find_all('td')[5].find('a').get('href'))\n",
    "        ot.append(game.find_all('td')[6].text)\n",
    "        attend.append(game.find_all('td')[7].text)\n",
    "        arena.append(game.find_all('td')[8].text)\n",
    "        notes.append(game.find_all('td')[9].text)\n",
    "        \n",
    "    data = {'Date': date, \n",
    "            'Start Time (ET)': start,\n",
    "            'Visitor': visitor, \n",
    "            'Visitor Points': visitor_pts, \n",
    "            'Home': home, \n",
    "            'Home Points': home_pts, \n",
    "            'Box Score': box_score, \n",
    "            'Overtime': ot, \n",
    "            'Attendance': attend, \n",
    "            'Arena': arena, \n",
    "            'Notes': notes}\n",
    "    return pd.DataFrame(data)"
   ]
  },
  {
   "cell_type": "code",
   "execution_count": 4,
   "id": "1369c93d",
   "metadata": {},
   "outputs": [],
   "source": [
    "def nba_season(year):\n",
    "    df = pd.DataFrame()\n",
    "    months = ['october', 'november', 'december', 'january', 'february', 'march', 'april', 'may', 'june']\n",
    "    for month in months:\n",
    "        url = f'https://www.basketball-reference.com/leagues/NBA_{year}_games-{month}.html'\n",
    "        try: \n",
    "            df = pd.concat([df, get_data(url)])\n",
    "        except:\n",
    "            pass\n",
    "    return df"
   ]
  },
  {
   "cell_type": "code",
   "execution_count": 9,
   "id": "e71e9d2a",
   "metadata": {},
   "outputs": [
    {
     "name": "stdout",
     "output_type": "stream",
     "text": [
      "Empty DataFrame\n",
      "Columns: []\n",
      "Index: []\n"
     ]
    }
   ],
   "source": [
    "nba_season('2023')"
   ]
  },
  {
   "cell_type": "markdown",
   "id": "bb60814b",
   "metadata": {},
   "source": [
    "Considerations:\n",
    "* blowout games\n",
    "* hidden mmr\n"
   ]
  },
  {
   "cell_type": "code",
   "execution_count": 15,
   "id": "e1560b70",
   "metadata": {},
   "outputs": [],
   "source": [
    "df = pd.DataFrame()\n",
    "for i in range(2013, 2024):\n",
    "    time.sleep(25)\n",
    "    temp_df = nba_season(i)\n",
    "    if temp_df.shape[0] == 0:\n",
    "        break\n",
    "    df = pd.concat([df, nba_season(i)])"
   ]
  },
  {
   "cell_type": "code",
   "execution_count": 16,
   "id": "5adac3ae",
   "metadata": {},
   "outputs": [
    {
     "data": {
      "text/html": [
       "<div>\n",
       "<style scoped>\n",
       "    .dataframe tbody tr th:only-of-type {\n",
       "        vertical-align: middle;\n",
       "    }\n",
       "\n",
       "    .dataframe tbody tr th {\n",
       "        vertical-align: top;\n",
       "    }\n",
       "\n",
       "    .dataframe thead th {\n",
       "        text-align: right;\n",
       "    }\n",
       "</style>\n",
       "<table border=\"1\" class=\"dataframe\">\n",
       "  <thead>\n",
       "    <tr style=\"text-align: right;\">\n",
       "      <th></th>\n",
       "    </tr>\n",
       "  </thead>\n",
       "  <tbody>\n",
       "  </tbody>\n",
       "</table>\n",
       "</div>"
      ],
      "text/plain": [
       "Empty DataFrame\n",
       "Columns: []\n",
       "Index: []"
      ]
     },
     "execution_count": 16,
     "metadata": {},
     "output_type": "execute_result"
    }
   ],
   "source": [
    "df"
   ]
  },
  {
   "cell_type": "code",
   "execution_count": null,
   "id": "b9649ec6",
   "metadata": {},
   "outputs": [],
   "source": []
  }
 ],
 "metadata": {
  "kernelspec": {
   "display_name": "Python 3 (ipykernel)",
   "language": "python",
   "name": "python3"
  },
  "language_info": {
   "codemirror_mode": {
    "name": "ipython",
    "version": 3
   },
   "file_extension": ".py",
   "mimetype": "text/x-python",
   "name": "python",
   "nbconvert_exporter": "python",
   "pygments_lexer": "ipython3",
   "version": "3.10.9"
  }
 },
 "nbformat": 4,
 "nbformat_minor": 5
}
